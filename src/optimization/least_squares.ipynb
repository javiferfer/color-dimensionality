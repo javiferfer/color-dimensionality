{
 "cells": [
  {
   "cell_type": "code",
   "execution_count": 1,
   "metadata": {},
   "outputs": [],
   "source": [
    "import glob\n",
    "import numpy as np\n",
    "import pandas as pd\n",
    "\n",
    "%matplotlib inline\n",
    "%load_ext autoreload\n",
    "%autoreload 2"
   ]
  },
  {
   "cell_type": "code",
   "execution_count": 2,
   "metadata": {},
   "outputs": [],
   "source": [
    "from utils import visualizing_colors\n",
    "from utils import preprocessing_file\n",
    "from utils.algorithm_least_squares import LeastSquares"
   ]
  },
  {
   "cell_type": "code",
   "execution_count": 3,
   "metadata": {},
   "outputs": [],
   "source": [
    "MIN_NO_DIM = 1\n",
    "MAX_NO_DIM = 10\n",
    "NO_COLORS = 20\n",
    "COMB_COLORS = 2"
   ]
  },
  {
   "cell_type": "markdown",
   "metadata": {},
   "source": [
    "#### Files"
   ]
  },
  {
   "cell_type": "code",
   "execution_count": 4,
   "metadata": {},
   "outputs": [],
   "source": [
    "files_s = sorted(glob.glob('../../input/*.txt'))"
   ]
  },
  {
   "cell_type": "markdown",
   "metadata": {},
   "source": [
    "#### Optimization"
   ]
  },
  {
   "cell_type": "code",
   "execution_count": 5,
   "metadata": {},
   "outputs": [
    {
     "name": "stdout",
     "output_type": "stream",
     "text": [
      "../../input/01_ColorDimensionality.txt\n",
      "../../input/02_ColorDimensionality.txt\n",
      "../../input/03_ColorDimensionality.txt\n",
      "../../input/04_ColorDimensionality.txt\n",
      "../../input/05_ColorDimensionality.txt\n",
      "../../input/06_ColorDimensionality.txt\n",
      "../../input/07_ColorDimensionality.txt\n",
      "../../input/08_ColorDimensionality.txt\n",
      "../../input/09_ColorDimensionality.txt\n",
      "../../input/10_ColorDimensionality.txt\n",
      "../../input/11_ColorDimensionality.txt\n",
      "../../input/12_ColorDimensionality.txt\n",
      "../../input/13_ColorDimensionality.txt\n"
     ]
    }
   ],
   "source": [
    "for i, filename in enumerate(files_s):\n",
    "    print(filename)\n",
    "    \n",
    "    # Loading file\n",
    "    df = pd.read_csv(filename, header=None, names=['left', 'right', 'slider'])\n",
    "    no_comb = NO_COLORS*(NO_COLORS-1)/2\n",
    "    assert df.shape[0] == no_comb\n",
    "    assert df.shape[1] == 3\n",
    "    \n",
    "    # Preprocessing the file\n",
    "    df_color = preprocessing_file.preprocess_two_colors(df, NO_COLORS)\n",
    "    df_color = preprocessing_file.adjust_slider(df_color, no_colors=2)\n",
    "    # print(f'Dataframe shape: {df_color.shape}')\n",
    "    \n",
    "    # Optimization\n",
    "    score_s = []\n",
    "    for no_dim in range(MIN_NO_DIM, MAX_NO_DIM):\n",
    "        least_squares = LeastSquares(NO_COLORS, no_dim, COMB_COLORS)\n",
    "        score, _, _ = least_squares.run(df_color)\n",
    "        # print(f'No dim {no_dim} with score: {score}')\n",
    "        score_s.append([no_dim, score])\n",
    "    score_s = np.array(score_s)\n",
    "    \n",
    "    # Saving file\n",
    "    df = pd.DataFrame(score_s, columns=['dim', 'loss'])\n",
    "    df.to_csv(f'output/part_{str(i).zfill(2)}_optimization_results.csv', index=False)\n",
    "    print('')"
   ]
  },
  {
   "cell_type": "code",
   "execution_count": null,
   "metadata": {},
   "outputs": [],
   "source": []
  }
 ],
 "metadata": {
  "kernelspec": {
   "display_name": "Python 3",
   "language": "python",
   "name": "python3"
  },
  "language_info": {
   "codemirror_mode": {
    "name": "ipython",
    "version": 3
   },
   "file_extension": ".py",
   "mimetype": "text/x-python",
   "name": "python",
   "nbconvert_exporter": "python",
   "pygments_lexer": "ipython3",
   "version": "3.8.8"
  },
  "toc": {
   "base_numbering": 1,
   "nav_menu": {},
   "number_sections": true,
   "sideBar": true,
   "skip_h1_title": false,
   "title_cell": "Table of Contents",
   "title_sidebar": "Contents",
   "toc_cell": false,
   "toc_position": {},
   "toc_section_display": true,
   "toc_window_display": false
  }
 },
 "nbformat": 4,
 "nbformat_minor": 4
}
