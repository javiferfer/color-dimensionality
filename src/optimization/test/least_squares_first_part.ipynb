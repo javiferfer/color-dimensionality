{
 "cells": [
  {
   "cell_type": "code",
   "execution_count": 1,
   "metadata": {},
   "outputs": [],
   "source": [
    "import matplotlib.pyplot as plt\n",
    "import numpy as np\n",
    "import pandas as pd\n",
    "import re\n",
    "import sys\n",
    "\n",
    "%matplotlib inline\n",
    "%load_ext autoreload\n",
    "%autoreload 2"
   ]
  },
  {
   "cell_type": "code",
   "execution_count": 2,
   "metadata": {},
   "outputs": [],
   "source": [
    "sys.path.append('..')\n",
    "from utils import visualizing_colors\n",
    "from utils import preprocessing_file\n",
    "from utils.algorithm_least_squares import LeastSquares"
   ]
  },
  {
   "cell_type": "code",
   "execution_count": 3,
   "metadata": {},
   "outputs": [],
   "source": [
    "MIN_NO_DIM = 1\n",
    "MAX_NO_DIM = 10\n",
    "NO_COLORS = 20\n",
    "COMB_COLORS = 2\n",
    "FILENAME = '01_ColorDimensionality'"
   ]
  },
  {
   "cell_type": "markdown",
   "metadata": {},
   "source": [
    "#### Preprocessing file"
   ]
  },
  {
   "cell_type": "code",
   "execution_count": 4,
   "metadata": {},
   "outputs": [],
   "source": [
    "file_experiment = f'../../../input/{FILENAME}.txt'\n",
    "df = pd.read_csv(file_experiment, header=None, names=['left', 'right', 'slider'])\n",
    "\n",
    "no_comb = NO_COLORS*(NO_COLORS-1)/2\n",
    "assert df.shape[0] == no_comb\n",
    "assert df.shape[1] == 3"
   ]
  },
  {
   "cell_type": "code",
   "execution_count": 5,
   "metadata": {},
   "outputs": [
    {
     "data": {
      "text/html": [
       "<div>\n",
       "<style scoped>\n",
       "    .dataframe tbody tr th:only-of-type {\n",
       "        vertical-align: middle;\n",
       "    }\n",
       "\n",
       "    .dataframe tbody tr th {\n",
       "        vertical-align: top;\n",
       "    }\n",
       "\n",
       "    .dataframe thead th {\n",
       "        text-align: right;\n",
       "    }\n",
       "</style>\n",
       "<table border=\"1\" class=\"dataframe\">\n",
       "  <thead>\n",
       "    <tr style=\"text-align: right;\">\n",
       "      <th></th>\n",
       "      <th>left</th>\n",
       "      <th>right</th>\n",
       "      <th>slider</th>\n",
       "    </tr>\n",
       "  </thead>\n",
       "  <tbody>\n",
       "    <tr>\n",
       "      <th>0</th>\n",
       "      <td>color_11</td>\n",
       "      <td>color_6</td>\n",
       "      <td>0</td>\n",
       "    </tr>\n",
       "    <tr>\n",
       "      <th>1</th>\n",
       "      <td>color_4</td>\n",
       "      <td>color_1</td>\n",
       "      <td>0</td>\n",
       "    </tr>\n",
       "    <tr>\n",
       "      <th>2</th>\n",
       "      <td>color_19</td>\n",
       "      <td>color_7</td>\n",
       "      <td>7</td>\n",
       "    </tr>\n",
       "    <tr>\n",
       "      <th>3</th>\n",
       "      <td>color_14</td>\n",
       "      <td>color_6</td>\n",
       "      <td>3</td>\n",
       "    </tr>\n",
       "    <tr>\n",
       "      <th>4</th>\n",
       "      <td>color_15</td>\n",
       "      <td>color_8</td>\n",
       "      <td>0</td>\n",
       "    </tr>\n",
       "  </tbody>\n",
       "</table>\n",
       "</div>"
      ],
      "text/plain": [
       "       left    right  slider\n",
       "0  color_11  color_6       0\n",
       "1   color_4  color_1       0\n",
       "2  color_19  color_7       7\n",
       "3  color_14  color_6       3\n",
       "4  color_15  color_8       0"
      ]
     },
     "execution_count": 5,
     "metadata": {},
     "output_type": "execute_result"
    }
   ],
   "source": [
    "df.head()"
   ]
  },
  {
   "cell_type": "code",
   "execution_count": 6,
   "metadata": {},
   "outputs": [
    {
     "name": "stdout",
     "output_type": "stream",
     "text": [
      "Dataframe shape: (190, 3)\n"
     ]
    }
   ],
   "source": [
    "df_color = preprocessing_file.preprocess_two_colors(df, NO_COLORS)\n",
    "df_color = preprocessing_file.adjust_slider(df_color, no_colors=2)\n",
    "print(f'Dataframe shape: {df_color.shape}')"
   ]
  },
  {
   "cell_type": "code",
   "execution_count": 7,
   "metadata": {},
   "outputs": [
    {
     "data": {
      "text/html": [
       "<div>\n",
       "<style scoped>\n",
       "    .dataframe tbody tr th:only-of-type {\n",
       "        vertical-align: middle;\n",
       "    }\n",
       "\n",
       "    .dataframe tbody tr th {\n",
       "        vertical-align: top;\n",
       "    }\n",
       "\n",
       "    .dataframe thead th {\n",
       "        text-align: right;\n",
       "    }\n",
       "</style>\n",
       "<table border=\"1\" class=\"dataframe\">\n",
       "  <thead>\n",
       "    <tr style=\"text-align: right;\">\n",
       "      <th></th>\n",
       "      <th>left</th>\n",
       "      <th>right</th>\n",
       "      <th>slider</th>\n",
       "    </tr>\n",
       "  </thead>\n",
       "  <tbody>\n",
       "    <tr>\n",
       "      <th>0</th>\n",
       "      <td>1</td>\n",
       "      <td>0</td>\n",
       "      <td>0.6</td>\n",
       "    </tr>\n",
       "    <tr>\n",
       "      <th>1</th>\n",
       "      <td>0</td>\n",
       "      <td>2</td>\n",
       "      <td>0.4</td>\n",
       "    </tr>\n",
       "    <tr>\n",
       "      <th>2</th>\n",
       "      <td>3</td>\n",
       "      <td>0</td>\n",
       "      <td>1.0</td>\n",
       "    </tr>\n",
       "    <tr>\n",
       "      <th>3</th>\n",
       "      <td>4</td>\n",
       "      <td>0</td>\n",
       "      <td>0.7</td>\n",
       "    </tr>\n",
       "    <tr>\n",
       "      <th>4</th>\n",
       "      <td>0</td>\n",
       "      <td>5</td>\n",
       "      <td>1.0</td>\n",
       "    </tr>\n",
       "  </tbody>\n",
       "</table>\n",
       "</div>"
      ],
      "text/plain": [
       "   left  right  slider\n",
       "0     1      0     0.6\n",
       "1     0      2     0.4\n",
       "2     3      0     1.0\n",
       "3     4      0     0.7\n",
       "4     0      5     1.0"
      ]
     },
     "execution_count": 7,
     "metadata": {},
     "output_type": "execute_result"
    }
   ],
   "source": [
    "df_color.head()"
   ]
  },
  {
   "cell_type": "markdown",
   "metadata": {},
   "source": [
    "#### Set number of dimensions"
   ]
  },
  {
   "cell_type": "code",
   "execution_count": 8,
   "metadata": {},
   "outputs": [],
   "source": [
    "NO_DIM = 2"
   ]
  },
  {
   "cell_type": "code",
   "execution_count": 9,
   "metadata": {},
   "outputs": [
    {
     "name": "stdout",
     "output_type": "stream",
     "text": [
      "Done!\n",
      "f([[ 92.55373727 104.50278575]\n",
      " [ 92.71460328 104.75700648]\n",
      " [ 92.8387919  104.68169799]\n",
      " [ 93.36498414 103.80381915]\n",
      " [ 93.37434026 104.48848673]\n",
      " [ 92.70915021 103.99640369]\n",
      " [ 92.98564391 103.76631473]\n",
      " [ 92.60423284 104.64159072]\n",
      " [ 93.71326625 104.34000286]\n",
      " [ 93.43609215 104.55180645]\n",
      " [ 92.63431831 104.57840677]\n",
      " [ 92.66855877 103.96382313]\n",
      " [ 92.83279078 104.48903568]\n",
      " [ 93.72882196 104.10466805]\n",
      " [ 93.46190542 104.06960654]\n",
      " [ 93.07078111 105.06649005]\n",
      " [ 93.56944378 104.73510334]\n",
      " [ 93.20812484 103.7169192 ]\n",
      " [ 92.57800614 104.8554505 ]\n",
      " [ 93.02672565 104.60401269]]) = 36.277162\n"
     ]
    }
   ],
   "source": [
    "least_squares = LeastSquares(NO_COLORS, NO_DIM, COMB_COLORS)\n",
    "error, pos, dist = least_squares.run(df_color)\n",
    "print('Done!')\n",
    "print('f(%s) = %f' % (pos, error))"
   ]
  },
  {
   "cell_type": "code",
   "execution_count": 10,
   "metadata": {},
   "outputs": [
    {
     "data": {
      "text/html": [
       "<div>\n",
       "<style scoped>\n",
       "    .dataframe tbody tr th:only-of-type {\n",
       "        vertical-align: middle;\n",
       "    }\n",
       "\n",
       "    .dataframe tbody tr th {\n",
       "        vertical-align: top;\n",
       "    }\n",
       "\n",
       "    .dataframe thead th {\n",
       "        text-align: right;\n",
       "    }\n",
       "</style>\n",
       "<table border=\"1\" class=\"dataframe\">\n",
       "  <thead>\n",
       "    <tr style=\"text-align: right;\">\n",
       "      <th></th>\n",
       "      <th>real</th>\n",
       "      <th>estimated</th>\n",
       "    </tr>\n",
       "  </thead>\n",
       "  <tbody>\n",
       "    <tr>\n",
       "      <th>0</th>\n",
       "      <td>0.6</td>\n",
       "      <td>0.300842</td>\n",
       "    </tr>\n",
       "    <tr>\n",
       "      <th>1</th>\n",
       "      <td>0.4</td>\n",
       "      <td>0.336550</td>\n",
       "    </tr>\n",
       "    <tr>\n",
       "      <th>2</th>\n",
       "      <td>1.0</td>\n",
       "      <td>1.070829</td>\n",
       "    </tr>\n",
       "    <tr>\n",
       "      <th>3</th>\n",
       "      <td>0.7</td>\n",
       "      <td>0.820728</td>\n",
       "    </tr>\n",
       "    <tr>\n",
       "      <th>4</th>\n",
       "      <td>1.0</td>\n",
       "      <td>0.529694</td>\n",
       "    </tr>\n",
       "  </tbody>\n",
       "</table>\n",
       "</div>"
      ],
      "text/plain": [
       "   real  estimated\n",
       "0   0.6   0.300842\n",
       "1   0.4   0.336550\n",
       "2   1.0   1.070829\n",
       "3   0.7   0.820728\n",
       "4   1.0   0.529694"
      ]
     },
     "execution_count": 10,
     "metadata": {},
     "output_type": "execute_result"
    }
   ],
   "source": [
    "dist_pred = least_squares.objective(pos, df_color.iloc[:, :-1].to_numpy())\n",
    "dist_real = df_color.iloc[:, -1].to_numpy()\n",
    "dict_dist = {'real': dist_real, 'estimated': dist_pred}\n",
    "df_dist = pd.DataFrame(dict_dist)\n",
    "df_dist.head()"
   ]
  },
  {
   "cell_type": "code",
   "execution_count": 11,
   "metadata": {},
   "outputs": [
    {
     "name": "stdout",
     "output_type": "stream",
     "text": [
      "Color 0 [-0.44619056 -0.25418182]\n",
      "Color 1 [-0.50115543  0.04159667]\n",
      "Color 2 [-0.35889338  0.07084884]\n",
      "Color 3 [ 0.62391696 -0.2148667 ]\n",
      "Color 4 [0.16512796 0.29343427]\n",
      "Color 5 [ 0.01213911 -0.51971881]\n",
      "Color 6 [ 0.37132527 -0.50035406]\n",
      "Color 7 [-0.50357408 -0.11807983]\n",
      "Color 8 [0.51458367 0.41508538]\n",
      "Color 9 [0.16733473 0.38185267]\n",
      "Color 10 [-0.43854615 -0.14393934]\n",
      "Color 11 [ 0.00453935 -0.57121057]\n",
      "Color 12 [-0.23226164 -0.07447556]\n",
      "Color 13 [0.68604089 0.25313825]\n",
      "Color 14 [0.51420688 0.0459021 ]\n",
      "Color 15 [-0.45051964  0.51072218]\n",
      "Color 16 [0.14043464 0.60692331]\n",
      "Color 17 [ 0.56802295 -0.38525538]\n",
      "Color 18 [-0.66824898  0.02086628]\n",
      "Color 19 [-0.16828253  0.14171214]\n"
     ]
    },
    {
     "data": {
      "image/png": "[encoded data removed]",
      "text/plain": [
       "<Figure size 720x360 with 1 Axes>"
      ]
     },
     "metadata": {
      "needs_background": "light"
     },
     "output_type": "display_data"
    }
   ],
   "source": [
    "visualizing_colors.embedding(pos, NO_DIM)"
   ]
  },
  {
   "cell_type": "code",
   "execution_count": 12,
   "metadata": {},
   "outputs": [],
   "source": [
    "NO_DIM = 4"
   ]
  },
  {
   "cell_type": "code",
   "execution_count": 13,
   "metadata": {},
   "outputs": [
    {
     "name": "stdout",
     "output_type": "stream",
     "text": [
      "Done!\n",
      "f([[0.82093624 0.80729759 0.81385859 0.53128667]\n",
      " [0.9368354  0.81194673 0.5677848  0.33122717]\n",
      " [0.6409998  1.01611336 0.45120696 0.55281595]\n",
      " [0.71954405 0.03894767 0.18127877 0.5133887 ]\n",
      " [0.05292082 0.65561162 0.41490108 0.59533089]\n",
      " [0.07556348 0.71813588 0.27907767 0.17487991]\n",
      " [0.95122522 0.26381428 0.46551898 0.14668374]\n",
      " [0.76694125 1.0237216  0.59240472 0.42093332]\n",
      " [0.0558187  0.37153058 0.87217107 0.45384747]\n",
      " [0.03638935 0.64237587 0.35868688 0.6875007 ]\n",
      " [0.8426677  0.94289073 0.54804108 0.51424415]\n",
      " [0.0625719  0.75872257 0.21027345 0.1793183 ]\n",
      " [0.5251619  0.94670501 0.34737806 0.44255198]\n",
      " [0.28390889 0.12890943 0.90568213 0.32071401]\n",
      " [0.42345003 0.11591075 0.32016026 0.59909336]\n",
      " [0.87455801 0.6062712  0.8159601  0.88162377]\n",
      " [0.51034226 0.28725522 0.20686221 0.89731895]\n",
      " [0.76428439 0.07099491 0.45585154 0.13767912]\n",
      " [0.81310781 0.95022719 0.79716536 0.20688738]\n",
      " [0.51467319 0.93029319 0.27336551 0.65407388]]) = 16.745106\n"
     ]
    }
   ],
   "source": [
    "least_squares = LeastSquares(NO_COLORS, NO_DIM, COMB_COLORS)\n",
    "error, pos, dist = least_squares.run(df_color)\n",
    "print('Done!')\n",
    "print('f(%s) = %f' % (pos, error))"
   ]
  },
  {
   "cell_type": "code",
   "execution_count": 14,
   "metadata": {},
   "outputs": [
    {
     "data": {
      "text/html": [
       "<div>\n",
       "<style scoped>\n",
       "    .dataframe tbody tr th:only-of-type {\n",
       "        vertical-align: middle;\n",
       "    }\n",
       "\n",
       "    .dataframe tbody tr th {\n",
       "        vertical-align: top;\n",
       "    }\n",
       "\n",
       "    .dataframe thead th {\n",
       "        text-align: right;\n",
       "    }\n",
       "</style>\n",
       "<table border=\"1\" class=\"dataframe\">\n",
       "  <thead>\n",
       "    <tr style=\"text-align: right;\">\n",
       "      <th></th>\n",
       "      <th>real</th>\n",
       "      <th>estimated</th>\n",
       "    </tr>\n",
       "  </thead>\n",
       "  <tbody>\n",
       "    <tr>\n",
       "      <th>0</th>\n",
       "      <td>0.6</td>\n",
       "      <td>0.337684</td>\n",
       "    </tr>\n",
       "    <tr>\n",
       "      <th>1</th>\n",
       "      <td>0.4</td>\n",
       "      <td>0.456027</td>\n",
       "    </tr>\n",
       "    <tr>\n",
       "      <th>2</th>\n",
       "      <td>1.0</td>\n",
       "      <td>1.000560</td>\n",
       "    </tr>\n",
       "    <tr>\n",
       "      <th>3</th>\n",
       "      <td>0.7</td>\n",
       "      <td>0.880980</td>\n",
       "    </tr>\n",
       "    <tr>\n",
       "      <th>4</th>\n",
       "      <td>1.0</td>\n",
       "      <td>0.988204</td>\n",
       "    </tr>\n",
       "  </tbody>\n",
       "</table>\n",
       "</div>"
      ],
      "text/plain": [
       "   real  estimated\n",
       "0   0.6   0.337684\n",
       "1   0.4   0.456027\n",
       "2   1.0   1.000560\n",
       "3   0.7   0.880980\n",
       "4   1.0   0.988204"
      ]
     },
     "execution_count": 14,
     "metadata": {},
     "output_type": "execute_result"
    }
   ],
   "source": [
    "dist_pred = least_squares.objective(pos, df_color.iloc[:, :-1].to_numpy())\n",
    "dist_real = df_color.iloc[:, -1].to_numpy()\n",
    "dict_dist = {'real': dist_real, 'estimated': dist_pred}\n",
    "df_dist = pd.DataFrame(dict_dist)\n",
    "df_dist.head()"
   ]
  },
  {
   "cell_type": "code",
   "execution_count": 15,
   "metadata": {},
   "outputs": [
    {
     "name": "stdout",
     "output_type": "stream",
     "text": [
      "Color 0 [0.40062872 0.13699662]\n",
      "Color 1 [0.42165274 0.1844089 ]\n",
      "Color 2 [ 0.36812473 -0.20472394]\n",
      "Color 3 [-0.38422235  0.43548472]\n",
      "Color 4 [-0.27406083 -0.41009307]\n",
      "Color 5 [-0.24082932 -0.428722  ]\n",
      "Color 6 [-0.00687698  0.54453873]\n",
      "Color 7 [ 0.48305937 -0.07899132]\n",
      "Color 8 [-0.38562283 -0.12007683]\n",
      "Color 9 [-0.30714226 -0.43212414]\n",
      "Color 10 [0.45792141 0.01243041]\n",
      "Color 11 [-0.23329606 -0.47879418]\n",
      "Color 12 [ 0.22199261 -0.25646876]\n",
      "Color 13 [-0.42163456  0.22092348]\n",
      "Color 14 [-0.47706596  0.19100041]\n",
      "Color 15 [0.27985316 0.27961306]\n",
      "Color 16 [-0.32044036  0.09687964]\n",
      "Color 17 [-0.26979873  0.53217959]\n",
      "Color 18 [0.50207562 0.06050678]\n",
      "Color 19 [ 0.18568185 -0.28496812]\n"
     ]
    },
    {
     "data": {
      "image/png": "[encoded data removed]",
      "text/plain": [
       "<Figure size 720x360 with 1 Axes>"
      ]
     },
     "metadata": {
      "needs_background": "light"
     },
     "output_type": "display_data"
    }
   ],
   "source": [
    "visualizing_colors.embedding(pos, NO_DIM)"
   ]
  },
  {
   "cell_type": "markdown",
   "metadata": {},
   "source": [
    "#### Iterate number of dimensions"
   ]
  },
  {
   "cell_type": "code",
   "execution_count": 16,
   "metadata": {},
   "outputs": [
    {
     "name": "stdout",
     "output_type": "stream",
     "text": [
      "No dim 1 with score: 73.42999651593945\n",
      "No dim 2 with score: 36.27716195491883\n",
      "No dim 3 with score: 19.599446824233215\n",
      "No dim 4 with score: 16.745106365825798\n",
      "No dim 5 with score: 15.75456816565444\n",
      "No dim 6 with score: 15.370626127950374\n",
      "No dim 7 with score: 15.31482455134552\n",
      "No dim 8 with score: 15.301252551049595\n",
      "No dim 9 with score: 15.30129684196188\n"
     ]
    },
    {
     "data": {
      "text/plain": [
       "[Text(0, 0, '0'),\n",
       " Text(0, 0, '1'),\n",
       " Text(0, 0, '2'),\n",
       " Text(0, 0, '3'),\n",
       " Text(0, 0, '4'),\n",
       " Text(0, 0, '5'),\n",
       " Text(0, 0, '6'),\n",
       " Text(0, 0, '7'),\n",
       " Text(0, 0, '8'),\n",
       " Text(0, 0, '9')]"
      ]
     },
     "execution_count": 16,
     "metadata": {},
     "output_type": "execute_result"
    },
    {
     "data": {
      "image/png": "[encoded data removed]",
      "text/plain": [
       "<Figure size 432x288 with 1 Axes>"
      ]
     },
     "metadata": {
      "needs_background": "light"
     },
     "output_type": "display_data"
    }
   ],
   "source": [
    "score_s = []\n",
    "for no_dim in range(MIN_NO_DIM, MAX_NO_DIM):\n",
    "    least_squares = LeastSquares(NO_COLORS, no_dim, COMB_COLORS)\n",
    "    score, _, _ = least_squares.run(df_color)\n",
    "    print(f'No dim {no_dim} with score: {score}')\n",
    "    score_s.append([no_dim, score])\n",
    "score_s = np.array(score_s)\n",
    "fig, axs = plt.subplots()\n",
    "axs.plot(score_s[:, 1])\n",
    "plt.locator_params(axis='x', nbins=MAX_NO_DIM-MIN_NO_DIM)\n",
    "labels = np.arange(0, MAX_NO_DIM)\n",
    "axs.set_xticklabels(labels)"
   ]
  },
  {
   "cell_type": "code",
   "execution_count": 17,
   "metadata": {},
   "outputs": [],
   "source": [
    "df = pd.DataFrame(score_s, columns=['dim', 'loss'])\n",
    "# df.to_csv(f'output/{FILENAME}.csv', index=False)"
   ]
  },
  {
   "cell_type": "code",
   "execution_count": null,
   "metadata": {},
   "outputs": [],
   "source": []
  }
 ],
 "metadata": {
  "kernelspec": {
   "display_name": "Python 3",
   "language": "python",
   "name": "python3"
  },
  "language_info": {
   "codemirror_mode": {
    "name": "ipython",
    "version": 3
   },
   "file_extension": ".py",
   "mimetype": "text/x-python",
   "name": "python",
   "nbconvert_exporter": "python",
   "pygments_lexer": "ipython3",
   "version": "3.8.8"
  },
  "toc": {
   "base_numbering": 1,
   "nav_menu": {},
   "number_sections": true,
   "sideBar": true,
   "skip_h1_title": false,
   "title_cell": "Table of Contents",
   "title_sidebar": "Contents",
   "toc_cell": false,
   "toc_position": {},
   "toc_section_display": true,
   "toc_window_display": false
  }
 },
 "nbformat": 4,
 "nbformat_minor": 4
}
