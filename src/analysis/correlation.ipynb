{
 "cells": [
  {
   "cell_type": "code",
   "execution_count": 1,
   "metadata": {},
   "outputs": [],
   "source": [
    "import colorsys\n",
    "import glob\n",
    "import matplotlib.pyplot as plt\n",
    "import numpy as np\n",
    "import pandas as pd\n",
    "from PIL import Image\n",
    "import scipy.stats\n",
    "import seaborn as sns"
   ]
  },
  {
   "cell_type": "code",
   "execution_count": 2,
   "metadata": {},
   "outputs": [],
   "source": [
    "files_s = sorted(glob.glob('../optimization/output/*_embedded_pos.csv'))\n",
    "img_s = sorted(glob.glob('../colors/output/img/*.png'))"
   ]
  },
  {
   "cell_type": "code",
   "execution_count": 3,
   "metadata": {},
   "outputs": [
    {
     "name": "stdout",
     "output_type": "stream",
     "text": [
      "(13, 20, 3)\n"
     ]
    }
   ],
   "source": [
    "emb_s = []\n",
    "for i in range(len(files_s)):\n",
    "    emb = pd.read_csv(files_s[i]).values\n",
    "    emb_s.append(emb)\n",
    "emb_s = np.array(emb_s)\n",
    "print(emb_s.shape)"
   ]
  },
  {
   "cell_type": "code",
   "execution_count": 4,
   "metadata": {},
   "outputs": [
    {
     "name": "stdout",
     "output_type": "stream",
     "text": [
      "[[0.12890625 0.03125    0.1640625 ]\n",
      " [0.         0.1171875  0.171875  ]\n",
      " [0.6171875  0.82421875 0.8515625 ]\n",
      " [0.62890625 0.4453125  0.        ]\n",
      " [0.99609375 0.74609375 0.76171875]\n",
      " [0.63671875 0.3046875  0.94140625]\n",
      " [0.234375   0.         0.        ]\n",
      " [0.26953125 0.390625   0.5       ]\n",
      " [0.69921875 0.1796875  0.23828125]\n",
      " [0.99609375 0.6015625  0.671875  ]\n",
      " [0.         0.19921875 0.4140625 ]\n",
      " [0.67578125 0.         0.99609375]\n",
      " [0.4140625  0.7109375  0.92578125]\n",
      " [0.69140625 0.21484375 0.        ]\n",
      " [0.99609375 0.58203125 0.        ]\n",
      " [0.234375   0.29296875 0.2734375 ]\n",
      " [0.83984375 0.79296875 0.484375  ]\n",
      " [0.4140625  0.23828125 0.078125  ]\n",
      " [0.421875   0.48828125 0.5390625 ]\n",
      " [0.         0.890625   0.98046875]]\n"
     ]
    }
   ],
   "source": [
    "colors_rgb = []\n",
    "for filename in img_s:\n",
    "    img = np.array(Image.open(filename)) / 256.0\n",
    "    colors_rgb.append(img[200, 150, :3])\n",
    "colors_rgb = np.array(colors_rgb)\n",
    "print(colors_rgb)"
   ]
  },
  {
   "cell_type": "markdown",
   "metadata": {},
   "source": [
    "#### Components for HSV"
   ]
  },
  {
   "cell_type": "code",
   "execution_count": 5,
   "metadata": {},
   "outputs": [],
   "source": [
    "hue_s, saturation_s, value_s = [], [], []\n",
    "for i in range(len(colors_rgb)):\n",
    "    (r, g, b) = colors_rgb[i]\n",
    "    (h, s, v) = colorsys.rgb_to_hsv(r, g, b)\n",
    "    hue_s.append(h)\n",
    "    saturation_s.append(s)\n",
    "    value_s.append(v)\n",
    "hue_s = np.array(hue_s)\n",
    "saturation_s = np.array(saturation_s)\n",
    "value_s = np.array(value_s)"
   ]
  },
  {
   "cell_type": "code",
   "execution_count": 6,
   "metadata": {},
   "outputs": [],
   "source": [
    "hue_hsv_corr_s, saturation_hsv_corr_s, value_hsv_corr_s = [], [], []\n",
    "for i in range(len(emb_s)):\n",
    "    for j in range(3):\n",
    "        hue_corr = scipy.stats.pearsonr(emb_s[i, :, j], hue_s)[0]\n",
    "        sat_corr = scipy.stats.pearsonr(emb_s[i, :, j], saturation_s)[0]\n",
    "        val_corr = scipy.stats.pearsonr(emb_s[i, :, j], value_s)[0]\n",
    "        if j == 0:\n",
    "            hue_corr_max = hue_corr\n",
    "            sat_corr_max = sat_corr\n",
    "            val_corr_max = val_corr\n",
    "        else:\n",
    "            if np.abs(hue_corr) > hue_corr_max:\n",
    "                hue_corr_max = hue_corr\n",
    "            if np.abs(sat_corr) > sat_corr_max:\n",
    "                sat_corr_max = sat_corr\n",
    "            if np.abs(val_corr) > val_corr_max:\n",
    "                val_corr_max = val_corr\n",
    "    hue_hsv_corr_s.append(np.abs(hue_corr_max))\n",
    "    saturation_hsv_corr_s.append(np.abs(sat_corr_max))\n",
    "    value_hsv_corr_s.append(np.abs(val_corr_max))"
   ]
  },
  {
   "cell_type": "markdown",
   "metadata": {},
   "source": [
    "#### Components for HSL"
   ]
  },
  {
   "cell_type": "code",
   "execution_count": 7,
   "metadata": {},
   "outputs": [],
   "source": [
    "hue_s, saturation_s, lightness_s = [], [], []\n",
    "for i in range(len(colors_rgb)):\n",
    "    (r, g, b) = colors_rgb[i]\n",
    "    (h, l, s) = colorsys.rgb_to_hls(r, g, b)\n",
    "    hue_s.append(h)\n",
    "    saturation_s.append(s)\n",
    "    lightness_s.append(l)\n",
    "hue_s = np.array(hue_s)\n",
    "saturation_s = np.array(saturation_s)\n",
    "lightness_s = np.array(lightness_s)"
   ]
  },
  {
   "cell_type": "code",
   "execution_count": 8,
   "metadata": {},
   "outputs": [],
   "source": [
    "hue_hsl_corr_s, saturation_hsl_corr_s, lightness_hsl_corr_s = [], [], []\n",
    "for i in range(len(emb_s)):\n",
    "    for j in range(3):\n",
    "        hue_corr = scipy.stats.pearsonr(emb_s[i, :, j], hue_s)[0]\n",
    "        sat_corr = scipy.stats.pearsonr(emb_s[i, :, j], saturation_s)[0]\n",
    "        lig_corr = scipy.stats.pearsonr(emb_s[i, :, j], lightness_s)[0]\n",
    "        if j == 0:\n",
    "            hue_corr_max = hue_corr\n",
    "            sat_corr_max = sat_corr\n",
    "            lig_corr_max = lig_corr\n",
    "        else:\n",
    "            if np.abs(hue_corr) > hue_corr_max:\n",
    "                hue_corr_max = hue_corr\n",
    "            if np.abs(sat_corr) > sat_corr_max:\n",
    "                sat_corr_max = sat_corr\n",
    "            if np.abs(lig_corr) > lig_corr_max:\n",
    "                lig_corr_max = lig_corr\n",
    "    hue_hsl_corr_s.append(np.abs(hue_corr_max))\n",
    "    saturation_hsl_corr_s.append(np.abs(sat_corr_max))\n",
    "    lightness_hsl_corr_s.append(np.abs(lig_corr_max))"
   ]
  },
  {
   "cell_type": "markdown",
   "metadata": {},
   "source": [
    "#### Correlation"
   ]
  },
  {
   "cell_type": "code",
   "execution_count": 9,
   "metadata": {},
   "outputs": [
    {
     "name": "stderr",
     "output_type": "stream",
     "text": [
      "/opt/anaconda3/lib/python3.8/site-packages/seaborn/distributions.py:2557: FutureWarning: `distplot` is a deprecated function and will be removed in a future version. Please adapt your code to use either `displot` (a figure-level function with similar flexibility) or `kdeplot` (an axes-level function for kernel density plots).\n",
      "  warnings.warn(msg, FutureWarning)\n",
      "/opt/anaconda3/lib/python3.8/site-packages/seaborn/distributions.py:2557: FutureWarning: `distplot` is a deprecated function and will be removed in a future version. Please adapt your code to use either `displot` (a figure-level function with similar flexibility) or `kdeplot` (an axes-level function for kernel density plots).\n",
      "  warnings.warn(msg, FutureWarning)\n",
      "/opt/anaconda3/lib/python3.8/site-packages/seaborn/distributions.py:2557: FutureWarning: `distplot` is a deprecated function and will be removed in a future version. Please adapt your code to use either `displot` (a figure-level function with similar flexibility) or `kdeplot` (an axes-level function for kernel density plots).\n",
      "  warnings.warn(msg, FutureWarning)\n",
      "/opt/anaconda3/lib/python3.8/site-packages/seaborn/distributions.py:2557: FutureWarning: `distplot` is a deprecated function and will be removed in a future version. Please adapt your code to use either `displot` (a figure-level function with similar flexibility) or `kdeplot` (an axes-level function for kernel density plots).\n",
      "  warnings.warn(msg, FutureWarning)\n",
      "/opt/anaconda3/lib/python3.8/site-packages/seaborn/distributions.py:2557: FutureWarning: `distplot` is a deprecated function and will be removed in a future version. Please adapt your code to use either `displot` (a figure-level function with similar flexibility) or `kdeplot` (an axes-level function for kernel density plots).\n",
      "  warnings.warn(msg, FutureWarning)\n"
     ]
    },
    {
     "data": {
      "image/png": "[encoded data removed]",
      "text/plain": [
       "<Figure size 432x288 with 1 Axes>"
      ]
     },
     "metadata": {
      "needs_background": "light"
     },
     "output_type": "display_data"
    }
   ],
   "source": [
    "sns.distplot(hue_hsv_corr_s, label='HSV and HSL - Hue', hist=False)\n",
    "sns.distplot(saturation_hsv_corr_s, label='HSV - Saturation', hist=False)\n",
    "sns.distplot(value_hsv_corr_s, label='HSV - Value', hist=False)\n",
    "sns.distplot(saturation_hsl_corr_s, label='HSL - Saturation', hist=False)\n",
    "sns.distplot(lightness_hsl_corr_s, label='HSL - Lightness', hist=False)\n",
    "plt.xlabel('Correlation', fontsize=12)\n",
    "plt.ylabel('Density', fontsize=12)\n",
    "plt.legend()\n",
    "plt.tight_layout()\n",
    "plt.savefig('output/fig/correlation.png', dpi=100)"
   ]
  },
  {
   "cell_type": "markdown",
   "metadata": {},
   "source": [
    "#### Paired t-test"
   ]
  },
  {
   "cell_type": "code",
   "execution_count": 10,
   "metadata": {},
   "outputs": [
    {
     "name": "stdout",
     "output_type": "stream",
     "text": [
      "HSV Value and HSV Hue:        Ttest_relResult(statistic=3.7845788108705856, pvalue=0.0026018006762847665)\n",
      "HSV Value and HSV Saturation: Ttest_relResult(statistic=5.350977041920262, pvalue=0.00017333276002577485)\n",
      "HSV Value and HSL Hue:        Ttest_relResult(statistic=3.7845788108705856, pvalue=0.0026018006762847665)\n",
      "HSV Value and HSL Saturation: Ttest_relResult(statistic=2.871482872745382, pvalue=0.014051065275193514)\n",
      "HSV Value and HSL Lightness:  Ttest_relResult(statistic=3.937656920694959, pvalue=0.001971225374932004)\n"
     ]
    }
   ],
   "source": [
    "print(f'HSV Value and HSV Hue:        {scipy.stats.ttest_rel(value_hsv_corr_s, hue_hsv_corr_s)}')\n",
    "print(f'HSV Value and HSV Saturation: {scipy.stats.ttest_rel(value_hsv_corr_s, saturation_hsv_corr_s)}')\n",
    "print(f'HSV Value and HSL Hue:        {scipy.stats.ttest_rel(value_hsv_corr_s, hue_hsl_corr_s)}')\n",
    "print(f'HSV Value and HSL Saturation: {scipy.stats.ttest_rel(value_hsv_corr_s, saturation_hsl_corr_s)}')\n",
    "print(f'HSV Value and HSL Lightness:  {scipy.stats.ttest_rel(value_hsv_corr_s, lightness_hsl_corr_s)}')"
   ]
  },
  {
   "cell_type": "code",
   "execution_count": 11,
   "metadata": {},
   "outputs": [
    {
     "name": "stdout",
     "output_type": "stream",
     "text": [
      "HSL Lightness and HSV Hue:        Ttest_relResult(statistic=2.3752980496368385, pvalue=0.03506169447657167)\n",
      "HSL Lightness and HSV Saturation: Ttest_relResult(statistic=4.064986828561951, pvalue=0.0015676277276718833)\n",
      "HSL Lightness and HSV Value:      Ttest_relResult(statistic=-3.937656920694959, pvalue=0.001971225374932004)\n",
      "HSL Lightness and HSL Hue:        Ttest_relResult(statistic=2.3752980496368385, pvalue=0.03506169447657167)\n",
      "HSL Lightness and HSL Saturation: Ttest_relResult(statistic=1.7014967149195461, pvalue=0.11459250830395919)\n"
     ]
    }
   ],
   "source": [
    "print(f'HSL Lightness and HSV Hue:        {scipy.stats.ttest_rel(lightness_hsl_corr_s, hue_hsv_corr_s)}')\n",
    "print(f'HSL Lightness and HSV Saturation: {scipy.stats.ttest_rel(lightness_hsl_corr_s, saturation_hsv_corr_s)}')\n",
    "print(f'HSL Lightness and HSV Value:      {scipy.stats.ttest_rel(lightness_hsl_corr_s, value_hsv_corr_s)}')\n",
    "print(f'HSL Lightness and HSL Hue:        {scipy.stats.ttest_rel(lightness_hsl_corr_s, hue_hsl_corr_s)}')\n",
    "print(f'HSL Lightness and HSL Saturation: {scipy.stats.ttest_rel(lightness_hsl_corr_s, saturation_hsl_corr_s)}')"
   ]
  },
  {
   "cell_type": "code",
   "execution_count": null,
   "metadata": {},
   "outputs": [],
   "source": []
  }
 ],
 "metadata": {
  "kernelspec": {
   "display_name": "Python 3",
   "language": "python",
   "name": "python3"
  },
  "language_info": {
   "codemirror_mode": {
    "name": "ipython",
    "version": 3
   },
   "file_extension": ".py",
   "mimetype": "text/x-python",
   "name": "python",
   "nbconvert_exporter": "python",
   "pygments_lexer": "ipython3",
   "version": "3.8.8"
  },
  "toc": {
   "base_numbering": 1,
   "nav_menu": {},
   "number_sections": true,
   "sideBar": true,
   "skip_h1_title": false,
   "title_cell": "Table of Contents",
   "title_sidebar": "Contents",
   "toc_cell": false,
   "toc_position": {},
   "toc_section_display": true,
   "toc_window_display": false
  }
 },
 "nbformat": 4,
 "nbformat_minor": 4
}
