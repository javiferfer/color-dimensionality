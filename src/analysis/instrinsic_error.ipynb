{
 "cells": [
  {
   "cell_type": "code",
   "execution_count": 1,
   "metadata": {},
   "outputs": [],
   "source": [
    "import glob\n",
    "import numpy as np\n",
    "import pandas as pd"
   ]
  },
  {
   "cell_type": "markdown",
   "metadata": {},
   "source": [
    "Ej 1:\n",
    "1. We select three colors: color_1, color_3, and color_5. The distances for those colors are:\n",
    "- color_1, color_3, 0.1\n",
    "- color_1, color_5, 0.1\n",
    "- color_3, color_5, 0.2\n",
    "2. To have an error, the third distance should be out of the range [0, 0.2]\n",
    "3. Since it is not out of that range, then there is no error\n",
    "\n",
    "Ej 2:\n",
    "1. We select three colors: color_1, color_3, and color_5. The distances for those colors are:\n",
    "- color_1, color_3, 0.1\n",
    "- color_1, color_5, 0.1\n",
    "- color_3, color_5, 0.5\n",
    "2. To have an error, the third distance should be out of the range [0, 0.2]\n",
    "3. Since it is out of that range, the error is 0.3"
   ]
  },
  {
   "cell_type": "markdown",
   "metadata": {},
   "source": [
    "Total number of combinations to check:\n",
    "\n",
    "20! / (17! * 3!) = 20 * 19 * 18 / 6 = 10 * 19 * 6 = 1140"
   ]
  },
  {
   "cell_type": "code",
   "execution_count": 2,
   "metadata": {},
   "outputs": [
    {
     "name": "stdout",
     "output_type": "stream",
     "text": [
      "['../../input/01_ColorDimensionality.txt', '../../input/02_ColorDimensionality.txt', '../../input/03_ColorDimensionality.txt', '../../input/04_ColorDimensionality.txt', '../../input/05_ColorDimensionality.txt', '../../input/06_ColorDimensionality.txt', '../../input/07_ColorDimensionality.txt', '../../input/08_ColorDimensionality.txt', '../../input/09_ColorDimensionality.txt', '../../input/10_ColorDimensionality.txt', '../../input/11_ColorDimensionality.txt', '../../input/12_ColorDimensionality.txt', '../../input/13_ColorDimensionality.txt']\n"
     ]
    }
   ],
   "source": [
    "files_s = sorted(glob.glob('../../input/*.txt'))\n",
    "print(files_s)"
   ]
  },
  {
   "cell_type": "code",
   "execution_count": 3,
   "metadata": {},
   "outputs": [],
   "source": [
    "def pos(i, j):\n",
    "    pos_first = np.where((f'color_{i}' == df['first_colour']) & (f'color_{j}' == df['second_colour']))[0]\n",
    "    pos_second = np.where((f'color_{i}' == df['second_colour']) & (f'color_{j}' == df['first_colour']))[0]\n",
    "    if len(pos_first) == 0 and len(pos_second) == 1:\n",
    "        pos_pair = pos_second\n",
    "    elif len(pos_first) == 1 and len(pos_second) == 0:\n",
    "        pos_pair = pos_first\n",
    "    else:\n",
    "        exit()        \n",
    "    return df['slider'].iloc[pos_pair].values\n",
    "\n",
    "error_part = []\n",
    "for filename in files_s:\n",
    "    df = pd.read_csv(filename, names=['first_colour', 'second_colour', 'slider'])\n",
    "    df['slider'] = ((df['slider'] / 10) - 1).abs()\n",
    "    error_s = []\n",
    "    for i in range(18):\n",
    "        for j in range(i+1, 19):\n",
    "            for k in range(j+1, 20):\n",
    "                # First pair\n",
    "                slider_first_pair = pos(i, j)\n",
    "                # Second pair\n",
    "                slider_second_pair = pos(i, k)\n",
    "                # Third pair\n",
    "                slider_third_pair = pos(j, k)\n",
    "                \n",
    "                error_range = [slider_first_pair - slider_second_pair, slider_first_pair + slider_second_pair]\n",
    "                if slider_third_pair < error_range[0]:\n",
    "                    error = float(np.abs(slider_third_pair - np.abs(slider_first_pair - slider_second_pair)))\n",
    "                elif slider_third_pair > error_range[1]:\n",
    "                    error = float(np.abs(slider_third_pair - np.abs(slider_first_pair + slider_second_pair)))\n",
    "                else:\n",
    "                    error = 0\n",
    "                error_s.append(error)   \n",
    "    error_part.append(error_s)"
   ]
  },
  {
   "cell_type": "code",
   "execution_count": 4,
   "metadata": {},
   "outputs": [
    {
     "name": "stdout",
     "output_type": "stream",
     "text": [
      "(13, 1140)\n"
     ]
    }
   ],
   "source": [
    "print(np.shape(error_part))"
   ]
  },
  {
   "cell_type": "code",
   "execution_count": 5,
   "metadata": {},
   "outputs": [
    {
     "name": "stdout",
     "output_type": "stream",
     "text": [
      "Part. 0, 0.0155\n",
      "Part. 1, 0.0260\n",
      "Part. 2, 0.0111\n",
      "Part. 3, 0.0000\n",
      "Part. 4, 0.0520\n",
      "Part. 5, 0.0361\n",
      "Part. 6, 0.0663\n",
      "Part. 7, 0.0582\n",
      "Part. 8, 0.0107\n",
      "Part. 9, 0.0339\n",
      "Part. 10, 0.0119\n",
      "Part. 11, 0.0000\n",
      "Part. 12, 0.0232\n",
      "\n",
      "Mean intrinsic error: 0.0265\n"
     ]
    }
   ],
   "source": [
    "error_total = []\n",
    "for i in range(len(error_part)):\n",
    "    print(f'Part. {i}, {np.mean(error_part[i]):.4f}')        \n",
    "    error_total.append(np.mean(error_part[i]))\n",
    "print(f'\\nMean intrinsic error: {np.mean(error_total):.4f}')"
   ]
  },
  {
   "cell_type": "markdown",
   "metadata": {},
   "source": [
    "#### Least-squares error"
   ]
  },
  {
   "cell_type": "code",
   "execution_count": 6,
   "metadata": {},
   "outputs": [],
   "source": [
    "files_s = sorted(glob.glob('../optimization/output/*.csv'))"
   ]
  },
  {
   "cell_type": "code",
   "execution_count": 7,
   "metadata": {},
   "outputs": [
    {
     "name": "stdout",
     "output_type": "stream",
     "text": [
      "Part. 0, 0.1032\n",
      "Part. 1, 0.0838\n",
      "Part. 2, 0.0993\n",
      "Part. 3, 0.2002\n",
      "Part. 4, 0.1128\n",
      "Part. 5, 0.1177\n",
      "Part. 6, 0.1268\n",
      "Part. 7, 0.1217\n",
      "Part. 8, 0.0974\n",
      "Part. 9, 0.0975\n",
      "Part. 10, 0.0831\n",
      "Part. 11, 0.2244\n",
      "Part. 12, 0.0771\n",
      "\n",
      "Mean least-squares error: 0.1189\n"
     ]
    }
   ],
   "source": [
    "error_total = []\n",
    "for i, filename in enumerate(files_s):\n",
    "    df = pd.read_csv(filename)\n",
    "    loss_part = df['loss'].iloc[2]\n",
    "    print(f'Part. {i}, {(loss_part / 190):.4f}')\n",
    "    error_total.append(df['loss'].iloc[2] / 190)\n",
    "print(f'\\nMean least-squares error: {np.mean(error_total):.4f}')"
   ]
  },
  {
   "cell_type": "code",
   "execution_count": null,
   "metadata": {},
   "outputs": [],
   "source": []
  }
 ],
 "metadata": {
  "kernelspec": {
   "display_name": "Python 3",
   "language": "python",
   "name": "python3"
  },
  "language_info": {
   "codemirror_mode": {
    "name": "ipython",
    "version": 3
   },
   "file_extension": ".py",
   "mimetype": "text/x-python",
   "name": "python",
   "nbconvert_exporter": "python",
   "pygments_lexer": "ipython3",
   "version": "3.8.8"
  },
  "toc": {
   "base_numbering": 1,
   "nav_menu": {},
   "number_sections": true,
   "sideBar": true,
   "skip_h1_title": false,
   "title_cell": "Table of Contents",
   "title_sidebar": "Contents",
   "toc_cell": false,
   "toc_position": {},
   "toc_section_display": true,
   "toc_window_display": false
  }
 },
 "nbformat": 4,
 "nbformat_minor": 4
}
